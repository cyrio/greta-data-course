{
 "cells": [
  {
   "cell_type": "markdown",
   "id": "3297a6e2",
   "metadata": {},
   "source": [
    "# Affectations"
   ]
  },
  {
   "cell_type": "code",
   "execution_count": 1,
   "id": "cae6bf4f",
   "metadata": {},
   "outputs": [],
   "source": [
    "z =\"La\""
   ]
  },
  {
   "cell_type": "code",
   "execution_count": 2,
   "id": "16a406f6",
   "metadata": {},
   "outputs": [
    {
     "data": {
      "text/plain": [
       "'La la'"
      ]
     },
     "execution_count": 2,
     "metadata": {},
     "output_type": "execute_result"
    }
   ],
   "source": [
    "z += \" la\"\n",
    "z"
   ]
  },
  {
   "cell_type": "code",
   "execution_count": 3,
   "id": "21fdf80d",
   "metadata": {},
   "outputs": [
    {
     "data": {
      "text/plain": [
       "0"
      ]
     },
     "execution_count": 3,
     "metadata": {},
     "output_type": "execute_result"
    }
   ],
   "source": [
    "x=y=z=0\n",
    "z\n",
    "x\n",
    "y"
   ]
  },
  {
   "cell_type": "code",
   "execution_count": 4,
   "id": "3a8f2547",
   "metadata": {},
   "outputs": [
    {
     "name": "stdout",
     "output_type": "stream",
     "text": [
      "0\n",
      "0\n",
      "0\n"
     ]
    }
   ],
   "source": [
    "print(x)\n",
    "print(z)\n",
    "print(y)"
   ]
  },
  {
   "cell_type": "code",
   "execution_count": 5,
   "id": "5ea31a20",
   "metadata": {},
   "outputs": [
    {
     "data": {
      "text/plain": [
       "3"
      ]
     },
     "execution_count": 5,
     "metadata": {},
     "output_type": "execute_result"
    }
   ],
   "source": [
    "# morse\n",
    "(a:=3)"
   ]
  },
  {
   "cell_type": "code",
   "execution_count": 6,
   "id": "de5e2d84",
   "metadata": {},
   "outputs": [
    {
     "data": {
      "text/plain": [
       "3"
      ]
     },
     "execution_count": 6,
     "metadata": {},
     "output_type": "execute_result"
    }
   ],
   "source": [
    "a"
   ]
  },
  {
   "cell_type": "code",
   "execution_count": 7,
   "id": "a9a768b6",
   "metadata": {},
   "outputs": [
    {
     "name": "stdout",
     "output_type": "stream",
     "text": [
      "Hello! \n",
      " Entrez une commande, Return pour finir\n",
      "_Commande : I like to fuck her\n",
      "on exécute la commande I like to fuck her\n",
      "_Commande : Nice beautiful boobs\n",
      "on exécute la commande Nice beautiful boobs\n",
      "_Commande : i like her\n",
      "on exécute la commande i like her\n",
      "_Commande : exit\n",
      "on exécute la commande exit\n",
      "_Commande : false\n",
      "on exécute la commande false\n",
      "_Commande : \n",
      "bye\n"
     ]
    }
   ],
   "source": [
    "print(\"Hello! \\n Entrez une commande, Return pour finir\")\n",
    "while(r:=input(\"_Commande : \")):\n",
    "    print(\"on exécute la commande\",r)\n",
    "print(\"bye\")"
   ]
  },
  {
   "cell_type": "markdown",
   "id": "5c83f88a",
   "metadata": {},
   "source": [
    "# Opérations sur les bits\n",
    "\n",
    "* &    \"et\"\n",
    "* |    \"ou\"\n",
    "* ^    \"ou exclusif\"\n",
    "* ~    \"Non ou complémention\"\n",
    "* \\>   \"un decalage à droite\"\n",
    "* \\<   \"un decalage à gauche\"\n",
    "* \\>>  \"deux décalages à droite, ajout de zéro à droite\"\n",
    "* \\<<  \"deux décalages à gauche, ajout de zéro à gauche\""
   ]
  },
  {
   "cell_type": "code",
   "execution_count": 8,
   "id": "8f89b709",
   "metadata": {},
   "outputs": [
    {
     "data": {
      "text/plain": [
       "2"
      ]
     },
     "execution_count": 8,
     "metadata": {},
     "output_type": "execute_result"
    }
   ],
   "source": [
    "1^3"
   ]
  },
  {
   "cell_type": "code",
   "execution_count": 9,
   "id": "2cd607e8",
   "metadata": {},
   "outputs": [
    {
     "data": {
      "text/plain": [
       "2"
      ]
     },
     "execution_count": 9,
     "metadata": {},
     "output_type": "execute_result"
    }
   ],
   "source": [
    "5^7"
   ]
  },
  {
   "cell_type": "code",
   "execution_count": 10,
   "id": "419bef99",
   "metadata": {},
   "outputs": [
    {
     "data": {
      "text/plain": [
       "6"
      ]
     },
     "execution_count": 10,
     "metadata": {},
     "output_type": "execute_result"
    }
   ],
   "source": [
    "2^4 "
   ]
  },
  {
   "cell_type": "code",
   "execution_count": 13,
   "id": "ef8a9432",
   "metadata": {},
   "outputs": [
    {
     "data": {
      "text/plain": [
       "6"
      ]
     },
     "execution_count": 13,
     "metadata": {},
     "output_type": "execute_result"
    }
   ],
   "source": [
    "3^5"
   ]
  },
  {
   "cell_type": "code",
   "execution_count": 14,
   "id": "7bf0255d",
   "metadata": {},
   "outputs": [
    {
     "data": {
      "text/plain": [
       "4"
      ]
     },
     "execution_count": 14,
     "metadata": {},
     "output_type": "execute_result"
    }
   ],
   "source": [
    "3^7"
   ]
  },
  {
   "cell_type": "code",
   "execution_count": 15,
   "id": "f9a771a3",
   "metadata": {},
   "outputs": [
    {
     "data": {
      "text/plain": [
       "1"
      ]
     },
     "execution_count": 15,
     "metadata": {},
     "output_type": "execute_result"
    }
   ],
   "source": [
    "3>>1"
   ]
  },
  {
   "cell_type": "code",
   "execution_count": 16,
   "id": "cf7a7ce6",
   "metadata": {},
   "outputs": [
    {
     "data": {
      "text/plain": [
       "(6, 12, 24, 48)"
      ]
     },
     "execution_count": 16,
     "metadata": {},
     "output_type": "execute_result"
    }
   ],
   "source": [
    "3<<1, 3<<2, 3<<3, 3<<4"
   ]
  },
  {
   "cell_type": "code",
   "execution_count": 17,
   "id": "614e6c99",
   "metadata": {},
   "outputs": [
    {
     "data": {
      "text/plain": [
       "(28, 14, 7)"
      ]
     },
     "execution_count": 17,
     "metadata": {},
     "output_type": "execute_result"
    }
   ],
   "source": [
    "56>>1, 56>>2, 56>>3"
   ]
  },
  {
   "cell_type": "code",
   "execution_count": 18,
   "id": "a42420fc",
   "metadata": {},
   "outputs": [
    {
     "data": {
      "text/plain": [
       "(28, 14, 7)"
      ]
     },
     "execution_count": 18,
     "metadata": {},
     "output_type": "execute_result"
    }
   ],
   "source": [
    "57>>1, 57>>2, 57>>3"
   ]
  },
  {
   "cell_type": "code",
   "execution_count": null,
   "id": "59982bb6",
   "metadata": {},
   "outputs": [],
   "source": []
  }
 ],
 "metadata": {
  "kernelspec": {
   "display_name": "Python 3 (ipykernel)",
   "language": "python",
   "name": "python3"
  },
  "language_info": {
   "codemirror_mode": {
    "name": "ipython",
    "version": 3
   },
   "file_extension": ".py",
   "mimetype": "text/x-python",
   "name": "python",
   "nbconvert_exporter": "python",
   "pygments_lexer": "ipython3",
   "version": "3.9.16"
  },
  "varInspector": {
   "cols": {
    "lenName": 16,
    "lenType": 16,
    "lenVar": 40
   },
   "kernels_config": {
    "python": {
     "delete_cmd_postfix": "",
     "delete_cmd_prefix": "del ",
     "library": "var_list.py",
     "varRefreshCmd": "print(var_dic_list())"
    },
    "r": {
     "delete_cmd_postfix": ") ",
     "delete_cmd_prefix": "rm(",
     "library": "var_list.r",
     "varRefreshCmd": "cat(var_dic_list()) "
    }
   },
   "types_to_exclude": [
    "module",
    "function",
    "builtin_function_or_method",
    "instance",
    "_Feature"
   ],
   "window_display": false
  }
 },
 "nbformat": 4,
 "nbformat_minor": 5
}
