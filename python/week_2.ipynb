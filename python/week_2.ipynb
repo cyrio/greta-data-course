{
 "cells": [
  {
   "cell_type": "markdown",
   "id": "33ed4a41",
   "metadata": {},
   "source": [
    "## Tuples"
   ]
  },
  {
   "cell_type": "code",
   "execution_count": 1,
   "id": "ddfe8e45",
   "metadata": {},
   "outputs": [],
   "source": [
    "thistuple = (\"banana\",\"apple\",\"cherry\",1,[2,\"coco\"],True)"
   ]
  },
  {
   "cell_type": "code",
   "execution_count": 2,
   "id": "a54764c2",
   "metadata": {},
   "outputs": [
    {
     "name": "stdout",
     "output_type": "stream",
     "text": [
      "id(thistuple):  140618199599424  - value(thistuple): ('banana', 'apple', 'cherry', 1, [2, 'coco'], True)\n",
      "id(thistuple[0])  140618210083312  - value(thistuple[0]): banana\n",
      "id(thistuple[1]):  140618210086704  - value(thistuple[1]): apple\n",
      "id(thistuple[2])  140618210084208  - value(thistuple[2]): cherry\n",
      "id(thistuple[4]):  140618210153984  - value(thistuple[4]): [2, 'coco']\n"
     ]
    }
   ],
   "source": [
    "print(\"id(thistuple): \", id(thistuple) , \" - value(thistuple):\", thistuple)\n",
    "print(\"id(thistuple[0]) \", id(thistuple[0]) , \" - value(thistuple[0]):\", thistuple[0])\n",
    "print(\"id(thistuple[1]): \", id(thistuple[1]) , \" - value(thistuple[1]):\", thistuple[1])\n",
    "print(\"id(thistuple[2]) \", id(thistuple[2]) , \" - value(thistuple[2]):\", thistuple[2])\n",
    "print(\"id(thistuple[4]): \", id(thistuple[4]) , \" - value(thistuple[4]):\", thistuple[4])"
   ]
  },
  {
   "cell_type": "code",
   "execution_count": 3,
   "id": "210921c6",
   "metadata": {},
   "outputs": [],
   "source": [
    "# Can we add a value in a nested item list?\n",
    "thistuple[4].append(False)"
   ]
  },
  {
   "cell_type": "code",
   "execution_count": 4,
   "id": "7e121ce4",
   "metadata": {},
   "outputs": [
    {
     "name": "stdout",
     "output_type": "stream",
     "text": [
      "id(thistuple):  140618199599424  | value(thistuple): ('banana', 'apple', 'cherry', 1, [2, 'coco', False], True)\n",
      "id(thistuple[0])  140618210083312  | value(thistuple[0]): banana\n",
      "id(thistuple[1]):  140618210086704  | value(thistuple[1]): apple\n",
      "id(thistuple[2])  140618210084208  | value(thistuple[2]): cherry\n",
      "id(thistuple[4]) -- unchanged :  140618210153984  | value(thistuple[4]) -- modified : [2, 'coco', False]\n"
     ]
    }
   ],
   "source": [
    "print(\"id(thistuple): \", id(thistuple) , \" | value(thistuple):\", thistuple)\n",
    "print(\"id(thistuple[0]) \", id(thistuple[0]) , \" | value(thistuple[0]):\", thistuple[0])\n",
    "print(\"id(thistuple[1]): \", id(thistuple[1]) , \" | value(thistuple[1]):\", thistuple[1])\n",
    "print(\"id(thistuple[2]) \", id(thistuple[2]) , \" | value(thistuple[2]):\", thistuple[2])\n",
    "print(\"id(thistuple[4]) -- unchanged : \", id(thistuple[4]) , \" | value(thistuple[4]) -- modified :\", thistuple[4])"
   ]
  },
  {
   "cell_type": "code",
   "execution_count": 5,
   "id": "11b8d8fb",
   "metadata": {},
   "outputs": [
    {
     "ename": "TypeError",
     "evalue": "'tuple' object does not support item assignment",
     "output_type": "error",
     "traceback": [
      "\u001b[0;31m---------------------------------------------------------------------------\u001b[0m",
      "\u001b[0;31mTypeError\u001b[0m                                 Traceback (most recent call last)",
      "Cell \u001b[0;32mIn[5], line 2\u001b[0m\n\u001b[1;32m      1\u001b[0m \u001b[38;5;66;03m# try to change a value\u001b[39;00m\n\u001b[0;32m----> 2\u001b[0m thistuple[\u001b[38;5;241m0\u001b[39m]\u001b[38;5;241m=\u001b[39m\u001b[38;5;124m\"\u001b[39m\u001b[38;5;124manother fruit\u001b[39m\u001b[38;5;124m\"\u001b[39m\n",
      "\u001b[0;31mTypeError\u001b[0m: 'tuple' object does not support item assignment"
     ]
    }
   ],
   "source": [
    "# try to change a value\n",
    "thistuple[0]=\"another fruit\""
   ]
  },
  {
   "cell_type": "code",
   "execution_count": 6,
   "id": "480afe08",
   "metadata": {},
   "outputs": [
    {
     "name": "stdout",
     "output_type": "stream",
     "text": [
      "id(thistuple):  140618199599424  | value(thistuple): ('banana', 'apple', 'cherry', 1, [2, 'coco', False], True)\n",
      "id(thistuple[0]) -- unchanged : 140618210083312  | value(thistuple[0]) -- unchanged : banana\n",
      "id(thistuple[1]):  140618210086704  | value(thistuple[1]): apple\n",
      "id(thistuple[2])  140618210084208  | value(thistuple[2]): cherry\n",
      "id(thistuple[4]):  140618210153984  | value(thistuple[4]): [2, 'coco', False]\n"
     ]
    }
   ],
   "source": [
    "print(\"id(thistuple): \", id(thistuple) , \" | value(thistuple):\", thistuple)\n",
    "print(\"id(thistuple[0]) -- unchanged :\", id(thistuple[0]) , \" | value(thistuple[0]) -- unchanged :\", thistuple[0])\n",
    "print(\"id(thistuple[1]): \", id(thistuple[1]) , \" | value(thistuple[1]):\", thistuple[1])\n",
    "print(\"id(thistuple[2]) \", id(thistuple[2]) , \" | value(thistuple[2]):\", thistuple[2])\n",
    "print(\"id(thistuple[4]): \", id(thistuple[4]) , \" | value(thistuple[4]):\", thistuple[4])"
   ]
  },
  {
   "cell_type": "code",
   "execution_count": 7,
   "id": "8e09e53a",
   "metadata": {},
   "outputs": [],
   "source": [
    "thislist = list(thistuple)"
   ]
  },
  {
   "cell_type": "code",
   "execution_count": 8,
   "id": "f1b5c5c2",
   "metadata": {},
   "outputs": [
    {
     "name": "stdout",
     "output_type": "stream",
     "text": [
      "['banana', 'apple', 'cherry', 1, [2, 'coco', False], True]\n"
     ]
    }
   ],
   "source": [
    "print(thislist)"
   ]
  },
  {
   "cell_type": "code",
   "execution_count": 9,
   "id": "66953be7",
   "metadata": {},
   "outputs": [],
   "source": [
    "thislist[0]=\"another fruit\""
   ]
  },
  {
   "cell_type": "code",
   "execution_count": 10,
   "id": "e3a489f5",
   "metadata": {},
   "outputs": [],
   "source": [
    "thislist[4].remove('coco')"
   ]
  },
  {
   "cell_type": "code",
   "execution_count": 11,
   "id": "33e6b7b2",
   "metadata": {},
   "outputs": [
    {
     "name": "stdout",
     "output_type": "stream",
     "text": [
      "id(thistuple):  140618199599424  | value(thistuple): ('banana', 'apple', 'cherry', 1, [2, False], True)\n",
      "id(thistuple[0]) -- unchanged : 140618210083312  | value(thistuple[0]) -- unchanged : banana\n",
      "id(thistuple[1]):  140618210086704  | value(thistuple[1]): apple\n",
      "id(thistuple[2])  140618210084208  | value(thistuple[2]): cherry\n",
      "id(thistuple[4])-- unchanged :  140618210153984  | value(thistuple[4]) -- modified : [2, False]\n"
     ]
    }
   ],
   "source": [
    "print(\"id(thistuple): \", id(thistuple) , \" | value(thistuple):\", thistuple)\n",
    "print(\"id(thistuple[0]) -- unchanged :\", id(thistuple[0]) , \" | value(thistuple[0]) -- unchanged :\", thistuple[0])\n",
    "print(\"id(thistuple[1]): \", id(thistuple[1]) , \" | value(thistuple[1]):\", thistuple[1])\n",
    "print(\"id(thistuple[2]) \", id(thistuple[2]) , \" | value(thistuple[2]):\", thistuple[2])\n",
    "print(\"id(thistuple[4])-- unchanged : \", id(thistuple[4]) , \" | value(thistuple[4]) -- modified :\", thistuple[4])"
   ]
  },
  {
   "cell_type": "code",
   "execution_count": 12,
   "id": "797d9a7a",
   "metadata": {},
   "outputs": [],
   "source": [
    "thistuple = tuple(thislist)"
   ]
  },
  {
   "cell_type": "code",
   "execution_count": 13,
   "id": "4c9b0342",
   "metadata": {},
   "outputs": [
    {
     "name": "stdout",
     "output_type": "stream",
     "text": [
      "id(thistuple)   -- modified :  140618246499200  | value(thistuple)-- modified : ('another fruit', 'apple', 'cherry', 1, [2, False], True)\n",
      "id(thistuple[0])-- modified :  140618226385712  | value(thistuple[0])-- modified : another fruit\n",
      "id(thistuple[1])-- unchanged :  140618210086704  | value(thistuple[1])-- unchanged : apple\n",
      "id(thistuple[2])-- unchanged :  140618210084208  | value(thistuple[2])-- unchanged : cherry\n",
      "id(thistuple[4])-- unchanged :  140618210153984  | value(thistuple[4])-- modified : [2, False]\n"
     ]
    }
   ],
   "source": [
    "print(\"id(thistuple)   -- modified : \" , id(thistuple)    , \" | value(thistuple)-- modified :\", thistuple)\n",
    "print(\"id(thistuple[0])-- modified : \" , id(thistuple[0]) , \" | value(thistuple[0])-- modified :\", thistuple[0])\n",
    "print(\"id(thistuple[1])-- unchanged : \", id(thistuple[1]) , \" | value(thistuple[1])-- unchanged :\", thistuple[1])\n",
    "print(\"id(thistuple[2])-- unchanged : \", id(thistuple[2]) , \" | value(thistuple[2])-- unchanged :\", thistuple[2])\n",
    "print(\"id(thistuple[4])-- unchanged : \", id(thistuple[4]) , \" | value(thistuple[4])-- modified :\", thistuple[4])"
   ]
  },
  {
   "cell_type": "markdown",
   "id": "c226c089",
   "metadata": {},
   "source": [
    "### Add an item to a Tuple\n",
    "\n",
    "you need to put the item into a tuple before ..."
   ]
  },
  {
   "cell_type": "code",
   "execution_count": 14,
   "id": "94883c5c",
   "metadata": {},
   "outputs": [],
   "source": [
    "y = (\"primo\",)\n",
    "thistuple += y"
   ]
  },
  {
   "cell_type": "code",
   "execution_count": 15,
   "id": "168c5c7a",
   "metadata": {},
   "outputs": [
    {
     "name": "stdout",
     "output_type": "stream",
     "text": [
      "id(thistuple) -- a new tuple:  140618246499680  | value(thistuple) : ('another fruit', 'apple', 'cherry', 1, [2, False], True, 'primo')\n",
      "id(thistuple[0]) :  140618226385712  | value(thistuple[0]): another fruit\n",
      "id(thistuple[1]) :  140618210086704  | value(thistuple[1]): apple\n",
      "id(thistuple[2]) :  140618210084208  | value(thistuple[2]) : cherry\n",
      "id(thistuple[4]) :  140618210153984  | value(thistuple[2]): [2, False]\n",
      "id(thistuple[5]) :  4309714096  | value(thistuple[5]): True\n",
      "id(thistuple[6])-- item added :  140618246476656  | value(thistuple[6]): primo\n"
     ]
    }
   ],
   "source": [
    "print(\"id(thistuple) -- a new tuple: \" , id(thistuple) , \" | value(thistuple) :\" , thistuple)\n",
    "print(\"id(thistuple[0]) : \" , id(thistuple[0]) , \" | value(thistuple[0]):\"  , thistuple[0])\n",
    "print(\"id(thistuple[1]) : \" , id(thistuple[1]) , \" | value(thistuple[1]):\"  , thistuple[1])\n",
    "print(\"id(thistuple[2]) : \", id(thistuple[2]) , \" | value(thistuple[2]) :\", thistuple[2])\n",
    "print(\"id(thistuple[4]) : \" , id(thistuple[4]) , \" | value(thistuple[2]):\"  , thistuple[4])\n",
    "print(\"id(thistuple[5]) : \" , id(thistuple[5]) , \" | value(thistuple[5]):\"  , thistuple[5])\n",
    "print(\"id(thistuple[6])-- item added : \", id(thistuple[6]) , \" | value(thistuple[6]):\" , thistuple[6])"
   ]
  },
  {
   "cell_type": "code",
   "execution_count": 16,
   "id": "c55f69be",
   "metadata": {},
   "outputs": [
    {
     "ename": "TypeError",
     "evalue": "unsupported operand type(s) for -=: 'tuple' and 'int'",
     "output_type": "error",
     "traceback": [
      "\u001b[0;31m---------------------------------------------------------------------------\u001b[0m",
      "\u001b[0;31mTypeError\u001b[0m                                 Traceback (most recent call last)",
      "Cell \u001b[0;32mIn[16], line 1\u001b[0m\n\u001b[0;32m----> 1\u001b[0m thistuple \u001b[38;5;241m-\u001b[39m\u001b[38;5;241m=\u001b[39m thistuple[\u001b[38;5;241m3\u001b[39m]\n",
      "\u001b[0;31mTypeError\u001b[0m: unsupported operand type(s) for -=: 'tuple' and 'int'"
     ]
    }
   ],
   "source": [
    "thistuple -= thistuple[3]"
   ]
  },
  {
   "cell_type": "code",
   "execution_count": 17,
   "id": "e1828b85",
   "metadata": {},
   "outputs": [
    {
     "ename": "TypeError",
     "evalue": "unsupported operand type(s) for -=: 'tuple' and 'tuple'",
     "output_type": "error",
     "traceback": [
      "\u001b[0;31m---------------------------------------------------------------------------\u001b[0m",
      "\u001b[0;31mTypeError\u001b[0m                                 Traceback (most recent call last)",
      "Cell \u001b[0;32mIn[17], line 1\u001b[0m\n\u001b[0;32m----> 1\u001b[0m thistuple \u001b[38;5;241m-\u001b[39m\u001b[38;5;241m=\u001b[39m (thistuple[\u001b[38;5;241m3\u001b[39m],)\n",
      "\u001b[0;31mTypeError\u001b[0m: unsupported operand type(s) for -=: 'tuple' and 'tuple'"
     ]
    }
   ],
   "source": [
    "thistuple -= (thistuple[3],)"
   ]
  },
  {
   "cell_type": "code",
   "execution_count": 18,
   "id": "b1c4cacc",
   "metadata": {},
   "outputs": [],
   "source": [
    "thislist = list(thistuple)\n",
    "thislist.remove(thislist[3]) ## thislist.remove(1)\n",
    "thistuple = tuple(thislist)"
   ]
  },
  {
   "cell_type": "code",
   "execution_count": 19,
   "id": "a7d1a8a5",
   "metadata": {},
   "outputs": [
    {
     "name": "stdout",
     "output_type": "stream",
     "text": [
      "id(thistuple) -- a new tuple:  140618251089856  | value(thistuple) : ('another fruit', 'apple', 'cherry', [2, False], True, 'primo')\n",
      "id(thistuple[0]) :  140618226385712  | value(thistuple[0]): another fruit\n",
      "id(thistuple[1]) :  140618210086704  | value(thistuple[1]): apple\n",
      "id(thistuple[2]) :  140618210084208  | value(thistuple[2]) : cherry\n",
      "id(thistuple[4]) :  4309714096  | value(thistuple[2]): True\n",
      "id(thistuple[5]) :  140618246476656  | value(thistuple[5]): primo\n"
     ]
    }
   ],
   "source": [
    "print(\"id(thistuple) -- a new tuple: \" , id(thistuple) , \" | value(thistuple) :\" , thistuple)\n",
    "print(\"id(thistuple[0]) : \" , id(thistuple[0]) , \" | value(thistuple[0]):\"  , thistuple[0])\n",
    "print(\"id(thistuple[1]) : \" , id(thistuple[1]) , \" | value(thistuple[1]):\"  , thistuple[1])\n",
    "print(\"id(thistuple[2]) : \" , id(thistuple[2]) , \" | value(thistuple[2]) :\" , thistuple[2])\n",
    "print(\"id(thistuple[4]) : \" , id(thistuple[4]) , \" | value(thistuple[2]):\"  , thistuple[4])\n",
    "print(\"id(thistuple[5]) : \" , id(thistuple[5]) , \" | value(thistuple[5]):\"  , thistuple[5])"
   ]
  },
  {
   "cell_type": "markdown",
   "id": "b9ea3337",
   "metadata": {},
   "source": [
    "### Access a tuple"
   ]
  },
  {
   "cell_type": "code",
   "execution_count": 20,
   "id": "639abbe7",
   "metadata": {},
   "outputs": [
    {
     "name": "stdout",
     "output_type": "stream",
     "text": [
      "length :  6  | thistuple :  ('another fruit', 'apple', 'cherry', [2, False], True, 'primo')\n"
     ]
    }
   ],
   "source": [
    "print(\"length : \", len(thistuple) , \" | thistuple : \" , thistuple[:])"
   ]
  },
  {
   "cell_type": "code",
   "execution_count": 21,
   "id": "b14f0d72",
   "metadata": {},
   "outputs": [
    {
     "name": "stdout",
     "output_type": "stream",
     "text": [
      "('another fruit', 'apple', 'cherry', [2, False], True, 'primo')\n"
     ]
    }
   ],
   "source": [
    "print(thistuple[:])"
   ]
  },
  {
   "cell_type": "code",
   "execution_count": 22,
   "id": "f722af0e",
   "metadata": {},
   "outputs": [
    {
     "name": "stdout",
     "output_type": "stream",
     "text": [
      "('another fruit', 'apple', 'cherry', [2, False])\n"
     ]
    }
   ],
   "source": [
    "print(thistuple[:4])"
   ]
  },
  {
   "cell_type": "code",
   "execution_count": 23,
   "id": "8f95fbd8",
   "metadata": {},
   "outputs": [
    {
     "name": "stdout",
     "output_type": "stream",
     "text": [
      "([2, False], True, 'primo')\n"
     ]
    }
   ],
   "source": [
    "print(thistuple[3:])"
   ]
  },
  {
   "cell_type": "code",
   "execution_count": 24,
   "id": "e14f12cc",
   "metadata": {},
   "outputs": [
    {
     "name": "stdout",
     "output_type": "stream",
     "text": [
      "primo\n"
     ]
    }
   ],
   "source": [
    "print(thistuple[-1])"
   ]
  },
  {
   "cell_type": "code",
   "execution_count": 25,
   "id": "ecce1011",
   "metadata": {},
   "outputs": [
    {
     "name": "stdout",
     "output_type": "stream",
     "text": [
      "()\n"
     ]
    }
   ],
   "source": [
    "print(thistuple[-2:-6])"
   ]
  },
  {
   "cell_type": "code",
   "execution_count": 26,
   "id": "2864e914",
   "metadata": {},
   "outputs": [
    {
     "name": "stdout",
     "output_type": "stream",
     "text": [
      "()\n"
     ]
    }
   ],
   "source": [
    "print(thistuple[-2:-5])"
   ]
  },
  {
   "cell_type": "code",
   "execution_count": 27,
   "id": "abc8dc23",
   "metadata": {},
   "outputs": [
    {
     "name": "stdout",
     "output_type": "stream",
     "text": [
      "('another fruit', 'apple', 'cherry', [2, False])\n"
     ]
    }
   ],
   "source": [
    "print(thistuple[-6:-2]) "
   ]
  },
  {
   "cell_type": "code",
   "execution_count": 28,
   "id": "d21fc957",
   "metadata": {},
   "outputs": [
    {
     "name": "stdout",
     "output_type": "stream",
     "text": [
      "('cherry', [2, False], True, 'primo')\n"
     ]
    }
   ],
   "source": [
    "print(thistuple[-4:])"
   ]
  },
  {
   "cell_type": "code",
   "execution_count": 29,
   "id": "39e19b02",
   "metadata": {},
   "outputs": [
    {
     "name": "stdout",
     "output_type": "stream",
     "text": [
      "('cherry', [2, False], True)\n"
     ]
    }
   ],
   "source": [
    "print(thistuple[-4:-1])"
   ]
  },
  {
   "cell_type": "code",
   "execution_count": 30,
   "id": "4c0057fc",
   "metadata": {},
   "outputs": [
    {
     "name": "stdout",
     "output_type": "stream",
     "text": [
      "('apple', 'cherry', [2, False])\n"
     ]
    }
   ],
   "source": [
    "print(thistuple[1:4])"
   ]
  },
  {
   "cell_type": "code",
   "execution_count": 31,
   "id": "c69f7e28",
   "metadata": {},
   "outputs": [
    {
     "name": "stdout",
     "output_type": "stream",
     "text": [
      "('another fruit', 'apple', 'cherry', [2, False], True, 'primo')\n"
     ]
    }
   ],
   "source": [
    "print(thistuple[:])"
   ]
  },
  {
   "cell_type": "code",
   "execution_count": 32,
   "id": "f7e9a7c2",
   "metadata": {},
   "outputs": [
    {
     "name": "stdout",
     "output_type": "stream",
     "text": [
      "('primo', True, [2, False], 'cherry', 'apple', 'another fruit')\n"
     ]
    }
   ],
   "source": [
    "# reverse tuple\n",
    "print(thistuple[::-1]) "
   ]
  },
  {
   "cell_type": "code",
   "execution_count": 33,
   "id": "75e03adb",
   "metadata": {},
   "outputs": [
    {
     "name": "stdout",
     "output_type": "stream",
     "text": [
      "('primo', [2, False], 'apple')\n"
     ]
    }
   ],
   "source": [
    "# reverse tuple , step = 2 \n",
    "print(thistuple[::-2]) "
   ]
  },
  {
   "cell_type": "code",
   "execution_count": 34,
   "id": "bd9c6fd1",
   "metadata": {},
   "outputs": [
    {
     "name": "stdout",
     "output_type": "stream",
     "text": [
      "('another fruit', 'apple', 'cherry', [2, False], True)\n"
     ]
    }
   ],
   "source": [
    "print(thistuple[:-1:])"
   ]
  },
  {
   "cell_type": "code",
   "execution_count": 35,
   "id": "8da5a431",
   "metadata": {},
   "outputs": [
    {
     "name": "stdout",
     "output_type": "stream",
     "text": [
      "('another fruit', 'apple', 'cherry', [2, False])\n"
     ]
    }
   ],
   "source": [
    "print(thistuple[:-2:])"
   ]
  },
  {
   "cell_type": "code",
   "execution_count": 36,
   "id": "af369b6f",
   "metadata": {},
   "outputs": [
    {
     "name": "stdout",
     "output_type": "stream",
     "text": [
      "('another fruit', 'cherry', True)\n"
     ]
    }
   ],
   "source": [
    "# pas de 2\n",
    "print(thistuple[:-1:2])"
   ]
  },
  {
   "cell_type": "code",
   "execution_count": 37,
   "id": "f1b4d8bb",
   "metadata": {},
   "outputs": [
    {
     "name": "stdout",
     "output_type": "stream",
     "text": [
      "('another fruit', 'cherry', True)\n"
     ]
    }
   ],
   "source": [
    "# le tuple par pas de 2\n",
    "print(thistuple[::2])"
   ]
  },
  {
   "cell_type": "code",
   "execution_count": 38,
   "id": "1f29de87",
   "metadata": {},
   "outputs": [
    {
     "name": "stdout",
     "output_type": "stream",
     "text": [
      "(True, 'cherry', 'another fruit')\n"
     ]
    }
   ],
   "source": [
    "# le tuple renversé par pas de -2 en partant de l'indice 4\n",
    "print(thistuple[4::-2])"
   ]
  },
  {
   "cell_type": "code",
   "execution_count": 39,
   "id": "aeaa843c",
   "metadata": {},
   "outputs": [
    {
     "name": "stdout",
     "output_type": "stream",
     "text": [
      "('apple',)\n"
     ]
    }
   ],
   "source": [
    "# le tuple renversé par pas de -2 en partant de l'indice 1\n",
    "print(thistuple[1::-2])"
   ]
  },
  {
   "cell_type": "markdown",
   "id": "c6b7b00d",
   "metadata": {},
   "source": [
    "### Check if Item Exists"
   ]
  },
  {
   "cell_type": "code",
   "execution_count": 40,
   "id": "3ea44e4b",
   "metadata": {},
   "outputs": [
    {
     "name": "stdout",
     "output_type": "stream",
     "text": [
      "('another fruit', [2, False])\n"
     ]
    }
   ],
   "source": [
    "rev_tuple = thistuple[4::-2]\n",
    "other_tuple = thistuple[0::3]\n",
    "print(other_tuple)"
   ]
  },
  {
   "cell_type": "code",
   "execution_count": 41,
   "id": "13055e38",
   "metadata": {},
   "outputs": [
    {
     "name": "stdout",
     "output_type": "stream",
     "text": [
      "Find Item:  another fruit\n"
     ]
    }
   ],
   "source": [
    "for x in rev_tuple:\n",
    "    if x in other_tuple:\n",
    "        print(\"Find Item: \", x)"
   ]
  },
  {
   "cell_type": "markdown",
   "id": "cc413353",
   "metadata": {},
   "source": [
    "### Unpacked a tuple"
   ]
  },
  {
   "cell_type": "code",
   "execution_count": 45,
   "id": "038ad7b2",
   "metadata": {},
   "outputs": [],
   "source": [
    "litle_fruit = (\"banana\",\"cherry\",\"kiwi\",)"
   ]
  },
  {
   "cell_type": "code",
   "execution_count": 46,
   "id": "004b3b23",
   "metadata": {},
   "outputs": [],
   "source": [
    "(green,yellow,red)=litle_fruit"
   ]
  },
  {
   "cell_type": "code",
   "execution_count": 47,
   "id": "a4b0e644",
   "metadata": {},
   "outputs": [
    {
     "name": "stdout",
     "output_type": "stream",
     "text": [
      "banana\n",
      "cherry\n",
      "kiwi\n"
     ]
    }
   ],
   "source": [
    "print(green)\n",
    "print(yellow)\n",
    "print(red)"
   ]
  },
  {
   "cell_type": "code",
   "execution_count": 49,
   "id": "38e6eb98",
   "metadata": {},
   "outputs": [],
   "source": [
    "fruits = (\"banana\",\"cherry\",\"kiwi\",\"guava\",\"strawberry\",\"mangos\",\"mandarin\",\"ananas\",\"cranberry\",\"apple\",\"orange\",\"raspberry\",\"pear\",)"
   ]
  },
  {
   "cell_type": "code",
   "execution_count": 50,
   "id": "273b74cb",
   "metadata": {},
   "outputs": [],
   "source": [
    "(green,yellow,*red) = fruits"
   ]
  },
  {
   "cell_type": "code",
   "execution_count": 51,
   "id": "58c5b273",
   "metadata": {},
   "outputs": [
    {
     "name": "stdout",
     "output_type": "stream",
     "text": [
      "banana\n",
      "cherry\n",
      "['kiwi', 'guava', 'strawberry', 'mangos', 'mandarin', 'ananas', 'cranberry', 'apple', 'orange', 'raspberry', 'pear']\n"
     ]
    }
   ],
   "source": [
    "print(green)\n",
    "print(yellow)\n",
    "print(red)"
   ]
  },
  {
   "cell_type": "code",
   "execution_count": 52,
   "id": "51797bb7",
   "metadata": {},
   "outputs": [],
   "source": [
    "tropico = (\"banana\",\"papaya\",\"pineapple\",\"guava\",\"mangos\",\"mandarin\",\"grapefruit\",\"coco\",)"
   ]
  },
  {
   "cell_type": "code",
   "execution_count": 53,
   "id": "779987e0",
   "metadata": {},
   "outputs": [],
   "source": [
    "(green,*tropic,red) = tropico"
   ]
  },
  {
   "cell_type": "code",
   "execution_count": 55,
   "id": "e017ec7a",
   "metadata": {},
   "outputs": [
    {
     "name": "stdout",
     "output_type": "stream",
     "text": [
      "banana\n",
      "['papaya', 'pineapple', 'guava', 'mangos', 'mandarin', 'grapefruit']\n",
      "coco\n"
     ]
    }
   ],
   "source": [
    "print(green)\n",
    "print(tropic)\n",
    "print(red)"
   ]
  },
  {
   "cell_type": "code",
   "execution_count": 56,
   "id": "d520f3a8",
   "metadata": {},
   "outputs": [
    {
     "name": "stdout",
     "output_type": "stream",
     "text": [
      "banana\n",
      "papaya\n",
      "pineapple\n",
      "guava\n",
      "mangos\n",
      "mandarin\n",
      "grapefruit\n",
      "coco\n"
     ]
    }
   ],
   "source": [
    "for i in range(len(tropico)):\n",
    "    print(tropico[i])"
   ]
  },
  {
   "cell_type": "code",
   "execution_count": 61,
   "id": "2be412f7",
   "metadata": {},
   "outputs": [
    {
     "name": "stdout",
     "output_type": "stream",
     "text": [
      "number occurences of  banana :  2  | index :  0\n",
      "number occurences of  cherry :  2  | index :  1\n",
      "number occurences of  kiwi :  2  | index :  2\n",
      "number occurences of  banana :  2  | index :  0\n",
      "number occurences of  cherry :  2  | index :  1\n",
      "number occurences of  kiwi :  2  | index :  2\n",
      "number occurences of  guava :  1  | index :  6\n",
      "number occurences of  strawberry :  1  | index :  7\n",
      "number occurences of  mangos :  1  | index :  8\n",
      "number occurences of  mandarin :  1  | index :  9\n",
      "number occurences of  ananas :  1  | index :  10\n",
      "number occurences of  cranberry :  1  | index :  11\n",
      "number occurences of  apple :  1  | index :  12\n",
      "number occurences of  orange :  1  | index :  13\n",
      "number occurences of  raspberry :  1  | index :  14\n",
      "number occurences of  pear :  1  | index :  15\n",
      "('banana', 'cherry', 'kiwi', 'banana', 'cherry', 'kiwi', 'guava', 'strawberry', 'mangos', 'mandarin', 'ananas', 'cranberry', 'apple', 'orange', 'raspberry', 'pear')\n"
     ]
    }
   ],
   "source": [
    "# Joint Tuples\n",
    "mesfruits = litle_fruit + fruits\n",
    "\n",
    "for i in range(len(mesfruits)):\n",
    "    print(\"number occurences of \" ,mesfruits[i], \": \", mesfruits.count(mesfruits[i]) , \" | index : \", mesfruits.index(mesfruits[i]))\n",
    "\n",
    "print(mesfruits)"
   ]
  },
  {
   "cell_type": "code",
   "execution_count": null,
   "id": "a3c62f89",
   "metadata": {},
   "outputs": [],
   "source": []
  },
  {
   "cell_type": "code",
   "execution_count": 42,
   "id": "a4fa450a",
   "metadata": {},
   "outputs": [],
   "source": [
    "#del thislist\n",
    "#del thistuple\n",
    "#print(tuple(id(thislist), thislist))\n",
    "#print(tuple(id(thistuple), thistuple))"
   ]
  },
  {
   "cell_type": "markdown",
   "id": "8dbb5ab1",
   "metadata": {},
   "source": [
    "## Sets"
   ]
  },
  {
   "cell_type": "code",
   "execution_count": 43,
   "id": "f755895d",
   "metadata": {},
   "outputs": [],
   "source": [
    "ens = {'a','b','Bonjour','une chose après'}"
   ]
  }
 ],
 "metadata": {
  "kernelspec": {
   "display_name": "Python 3 (ipykernel)",
   "language": "python",
   "name": "python3"
  },
  "language_info": {
   "codemirror_mode": {
    "name": "ipython",
    "version": 3
   },
   "file_extension": ".py",
   "mimetype": "text/x-python",
   "name": "python",
   "nbconvert_exporter": "python",
   "pygments_lexer": "ipython3",
   "version": "3.9.16"
  },
  "varInspector": {
   "cols": {
    "lenName": 16,
    "lenType": 16,
    "lenVar": 40
   },
   "kernels_config": {
    "python": {
     "delete_cmd_postfix": "",
     "delete_cmd_prefix": "del ",
     "library": "var_list.py",
     "varRefreshCmd": "print(var_dic_list())"
    },
    "r": {
     "delete_cmd_postfix": ") ",
     "delete_cmd_prefix": "rm(",
     "library": "var_list.r",
     "varRefreshCmd": "cat(var_dic_list()) "
    }
   },
   "types_to_exclude": [
    "module",
    "function",
    "builtin_function_or_method",
    "instance",
    "_Feature"
   ],
   "window_display": false
  }
 },
 "nbformat": 4,
 "nbformat_minor": 5
}
